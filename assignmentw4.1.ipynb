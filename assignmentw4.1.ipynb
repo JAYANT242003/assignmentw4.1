{
 "cells": [
  {
   "cell_type": "code",
   "execution_count": null,
   "id": "99e43937-1563-4f1c-8685-e5ffbee287a4",
   "metadata": {},
   "outputs": [],
   "source": [
    "Q1."
   ]
  },
  {
   "cell_type": "code",
   "execution_count": null,
   "id": "86cd3cba-4c88-482b-a86a-da36e35323f7",
   "metadata": {},
   "outputs": [],
   "source": [
    "Class: A class is a blueprint for creating objects. A class serves as a blueprint for creating multiple instances of objects with similar characteristics and behaviors"
   ]
  },
  {
   "cell_type": "code",
   "execution_count": null,
   "id": "3ee55cdb-256c-4516-b8eb-0f31521b3d18",
   "metadata": {},
   "outputs": [],
   "source": [
    "object:An object is a specific instance of a class. Objects have their own unique set of attributes, which are defined by the class."
   ]
  },
  {
   "cell_type": "code",
   "execution_count": 10,
   "id": "47d8f732-8f59-4aad-b280-4eb77950ab76",
   "metadata": {},
   "outputs": [],
   "source": [
    "# creating class car\n",
    "class car:\n",
    "    def __init__(self, car_name, car_color, car_model):\n",
    "        self.car_name = car_name\n",
    "        self.car_color = car_color\n",
    "        self.car_model = car_model"
   ]
  },
  {
   "cell_type": "code",
   "execution_count": 11,
   "id": "e45ae681-5e27-4313-bd17-f836916fcca3",
   "metadata": {},
   "outputs": [],
   "source": [
    "c = car(\"Harrier\",\"Black\",2021) # Creating objects of the Car class"
   ]
  },
  {
   "cell_type": "code",
   "execution_count": 12,
   "id": "d8fb85ac-7aa4-4383-b386-cd532e1b61ce",
   "metadata": {},
   "outputs": [
    {
     "data": {
      "text/plain": [
       "'Black'"
      ]
     },
     "execution_count": 12,
     "metadata": {},
     "output_type": "execute_result"
    }
   ],
   "source": [
    "c.car_color"
   ]
  },
  {
   "cell_type": "code",
   "execution_count": 13,
   "id": "35e71f43-5a83-4fbc-a442-fc9237bb84e9",
   "metadata": {},
   "outputs": [
    {
     "data": {
      "text/plain": [
       "'Harrier'"
      ]
     },
     "execution_count": 13,
     "metadata": {},
     "output_type": "execute_result"
    }
   ],
   "source": [
    "c.car_name"
   ]
  },
  {
   "cell_type": "code",
   "execution_count": 14,
   "id": "e7260a50-fc7f-4651-83af-fbce7799ffee",
   "metadata": {},
   "outputs": [
    {
     "data": {
      "text/plain": [
       "2021"
      ]
     },
     "execution_count": 14,
     "metadata": {},
     "output_type": "execute_result"
    }
   ],
   "source": [
    "c.car_model"
   ]
  },
  {
   "cell_type": "code",
   "execution_count": null,
   "id": "f919d741-c988-4761-a1c2-f272a302d2b7",
   "metadata": {},
   "outputs": [],
   "source": []
  },
  {
   "cell_type": "code",
   "execution_count": null,
   "id": "a6a2d9bc-e331-45db-9e9c-fd4dc60f3c99",
   "metadata": {},
   "outputs": [],
   "source": []
  },
  {
   "cell_type": "code",
   "execution_count": null,
   "id": "ddf2dee5-a2f6-4a3b-baf4-0a1d7efd65d4",
   "metadata": {},
   "outputs": [],
   "source": [
    "Q2."
   ]
  },
  {
   "cell_type": "code",
   "execution_count": null,
   "id": "a788d7ee-c187-4e99-ac4d-ed2e0f3636ae",
   "metadata": {},
   "outputs": [],
   "source": [
    "Four pillar of OOPs concepts are:\n",
    "    1.Encapsulation\n",
    "    2.Polymorphism\n",
    "    3.Inheritance\n",
    "    4.Abstraction"
   ]
  },
  {
   "cell_type": "code",
   "execution_count": null,
   "id": "e1dfff61-dc86-42ee-8e61-5eeaf3ac04b2",
   "metadata": {},
   "outputs": [],
   "source": []
  },
  {
   "cell_type": "code",
   "execution_count": null,
   "id": "ba9f0778-9dbd-4de7-af02-f2ff1930e029",
   "metadata": {},
   "outputs": [],
   "source": []
  },
  {
   "cell_type": "code",
   "execution_count": null,
   "id": "c6724761-f044-47ca-a298-cb0185cb9106",
   "metadata": {},
   "outputs": [],
   "source": [
    "Q3.__init__ is also known as the constructor. It  automatically called when an object of a class is created."
   ]
  },
  {
   "cell_type": "code",
   "execution_count": 15,
   "id": "81532fe6-0439-43a5-a7ab-4cdc1ceb79f7",
   "metadata": {},
   "outputs": [],
   "source": [
    "class person():\n",
    "    def __init__(self, name , age):\n",
    "        self.name = name\n",
    "        self.age = age"
   ]
  },
  {
   "cell_type": "code",
   "execution_count": 17,
   "id": "8c9b7237-bf2f-4d21-96e9-ebee13213bc1",
   "metadata": {},
   "outputs": [],
   "source": [
    "p = person(\"Raju\",19)"
   ]
  },
  {
   "cell_type": "code",
   "execution_count": 18,
   "id": "c133ef73-3a73-4160-b185-0b61f808b0eb",
   "metadata": {},
   "outputs": [
    {
     "data": {
      "text/plain": [
       "'Raju'"
      ]
     },
     "execution_count": 18,
     "metadata": {},
     "output_type": "execute_result"
    }
   ],
   "source": [
    "p.name"
   ]
  },
  {
   "cell_type": "code",
   "execution_count": 19,
   "id": "e84616b1-e788-464b-bf2e-d90d1aaf5f61",
   "metadata": {},
   "outputs": [
    {
     "data": {
      "text/plain": [
       "19"
      ]
     },
     "execution_count": 19,
     "metadata": {},
     "output_type": "execute_result"
    }
   ],
   "source": [
    "p.age"
   ]
  },
  {
   "cell_type": "code",
   "execution_count": null,
   "id": "0bd97bf7-c4a3-4507-b046-6341c1e2f996",
   "metadata": {},
   "outputs": [],
   "source": []
  },
  {
   "cell_type": "code",
   "execution_count": null,
   "id": "8eea1304-9519-4513-a30b-47aaa2ffbad3",
   "metadata": {},
   "outputs": [],
   "source": []
  },
  {
   "cell_type": "code",
   "execution_count": null,
   "id": "8f0a0400-24a8-4e41-9406-bdfaad97c80b",
   "metadata": {},
   "outputs": [],
   "source": [
    "Q4."
   ]
  },
  {
   "cell_type": "code",
   "execution_count": null,
   "id": "ee8add2e-c7d2-4df2-8169-aacd2711c9b4",
   "metadata": {},
   "outputs": [],
   "source": [
    "the self keyword is used to refer to the instance of a class within its own methods.The use of self allows us to access the attributes and methods of the object within the class."
   ]
  },
  {
   "cell_type": "code",
   "execution_count": null,
   "id": "4690965c-dadb-40ca-af38-032666d33e82",
   "metadata": {},
   "outputs": [],
   "source": []
  },
  {
   "cell_type": "code",
   "execution_count": null,
   "id": "c6d7eafa-e0ef-4e8a-95f4-1ac7f6b4cb06",
   "metadata": {},
   "outputs": [],
   "source": []
  },
  {
   "cell_type": "code",
   "execution_count": null,
   "id": "8dfb0411-610b-47e2-b66f-813f2b2c339b",
   "metadata": {},
   "outputs": [],
   "source": [
    "Q5."
   ]
  },
  {
   "cell_type": "code",
   "execution_count": null,
   "id": "a1656c97-992a-415b-b328-6cd1e0ce2399",
   "metadata": {},
   "outputs": [],
   "source": [
    "Inheritance is a fundamental concept in object-oriented programming (OOP) that allows one class to inherit properties and behaviors from another class."
   ]
  },
  {
   "cell_type": "code",
   "execution_count": 29,
   "id": "654fee4b-159b-407b-abe6-b449ddadef09",
   "metadata": {},
   "outputs": [],
   "source": [
    "class class1:\n",
    "    def test_class1(self):\n",
    "        print(\"this is my first code\")\n",
    "        \n",
    "        \n",
    "class class2:\n",
    "    def test_class2(self):\n",
    "        print(\"this is my second code\")\n",
    "        \n",
    "class class3(class1, class2):\n",
    "    pass"
   ]
  },
  {
   "cell_type": "code",
   "execution_count": 30,
   "id": "db432692-fa75-4630-a302-b011a6bff0dd",
   "metadata": {},
   "outputs": [],
   "source": [
    "obj_class3 = class3()"
   ]
  },
  {
   "cell_type": "code",
   "execution_count": 32,
   "id": "b0f60127-a3bf-4c42-aed5-b4db6c62e934",
   "metadata": {},
   "outputs": [
    {
     "name": "stdout",
     "output_type": "stream",
     "text": [
      "this is my first code\n"
     ]
    }
   ],
   "source": [
    "obj_class3.test_class1()"
   ]
  },
  {
   "cell_type": "code",
   "execution_count": null,
   "id": "f2f85944-d516-476f-a465-9f563b585eb2",
   "metadata": {},
   "outputs": [],
   "source": []
  }
 ],
 "metadata": {
  "kernelspec": {
   "display_name": "Python 3 (ipykernel)",
   "language": "python",
   "name": "python3"
  },
  "language_info": {
   "codemirror_mode": {
    "name": "ipython",
    "version": 3
   },
   "file_extension": ".py",
   "mimetype": "text/x-python",
   "name": "python",
   "nbconvert_exporter": "python",
   "pygments_lexer": "ipython3",
   "version": "3.10.8"
  }
 },
 "nbformat": 4,
 "nbformat_minor": 5
}
